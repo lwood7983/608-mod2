{
 "cells": [
  {
   "cell_type": "code",
   "execution_count": 1,
   "id": "75fee075-066b-40b8-bc68-61fc35293793",
   "metadata": {},
   "outputs": [],
   "source": [
    "numbers = [47, 95, 88, 73, 88, 84]"
   ]
  },
  {
   "cell_type": "code",
   "execution_count": 2,
   "id": "db7e1b82-ae1e-4f40-80bb-9ce3a405d38e",
   "metadata": {},
   "outputs": [
    {
     "data": {
      "text/plain": [
       "6"
      ]
     },
     "execution_count": 2,
     "metadata": {},
     "output_type": "execute_result"
    }
   ],
   "source": [
    "len(numbers)"
   ]
  },
  {
   "cell_type": "code",
   "execution_count": 3,
   "id": "dda3dc71-c781-4aac-a014-42201735534f",
   "metadata": {},
   "outputs": [
    {
     "data": {
      "text/plain": [
       "475"
      ]
     },
     "execution_count": 3,
     "metadata": {},
     "output_type": "execute_result"
    }
   ],
   "source": [
    "sum(numbers)"
   ]
  },
  {
   "cell_type": "code",
   "execution_count": 4,
   "id": "b9ddf292-f2f5-43eb-98bd-a02cd6369aea",
   "metadata": {},
   "outputs": [
    {
     "data": {
      "text/plain": [
       "79.16666666666667"
      ]
     },
     "execution_count": 4,
     "metadata": {},
     "output_type": "execute_result"
    }
   ],
   "source": [
    "sum(numbers) / len(numbers)"
   ]
  },
  {
   "cell_type": "code",
   "execution_count": 5,
   "id": "b224d981-c112-4523-87d1-1be4bc146fa1",
   "metadata": {},
   "outputs": [],
   "source": [
    "import statistics"
   ]
  },
  {
   "cell_type": "code",
   "execution_count": 6,
   "id": "10d7fead-86e0-4c5a-8891-87f5793adc70",
   "metadata": {},
   "outputs": [
    {
     "data": {
      "text/plain": [
       "79.16666666666667"
      ]
     },
     "execution_count": 6,
     "metadata": {},
     "output_type": "execute_result"
    }
   ],
   "source": [
    "statistics.mean(numbers)"
   ]
  },
  {
   "cell_type": "code",
   "execution_count": 7,
   "id": "7abfd7d0-2954-4575-8cba-7bd1cba051ee",
   "metadata": {},
   "outputs": [
    {
     "data": {
      "text/plain": [
       "86.0"
      ]
     },
     "execution_count": 7,
     "metadata": {},
     "output_type": "execute_result"
    }
   ],
   "source": [
    "statistics.median(numbers)"
   ]
  },
  {
   "cell_type": "code",
   "execution_count": 8,
   "id": "8792dc64-47f1-4398-9628-5eaa9f456415",
   "metadata": {},
   "outputs": [
    {
     "data": {
      "text/plain": [
       "88"
      ]
     },
     "execution_count": 8,
     "metadata": {},
     "output_type": "execute_result"
    }
   ],
   "source": [
    "statistics.mode(numbers)"
   ]
  },
  {
   "cell_type": "code",
   "execution_count": 9,
   "id": "b4b23bbc-c7f0-42bc-a837-39276235f666",
   "metadata": {},
   "outputs": [],
   "source": [
    "mynumber = [10, 44, 6, 87, 55, 32, 79, 36, 2]"
   ]
  },
  {
   "cell_type": "code",
   "execution_count": 10,
   "id": "91be4891-06d0-4f37-aecf-91880fe651b1",
   "metadata": {},
   "outputs": [
    {
     "data": {
      "text/plain": [
       "9"
      ]
     },
     "execution_count": 10,
     "metadata": {},
     "output_type": "execute_result"
    }
   ],
   "source": [
    "len(mynumber)"
   ]
  },
  {
   "cell_type": "code",
   "execution_count": 11,
   "id": "ce6995da-8822-4584-a6aa-e8c520c41eac",
   "metadata": {},
   "outputs": [
    {
     "data": {
      "text/plain": [
       "351"
      ]
     },
     "execution_count": 11,
     "metadata": {},
     "output_type": "execute_result"
    }
   ],
   "source": [
    "sum(mynumber)"
   ]
  },
  {
   "cell_type": "code",
   "execution_count": 12,
   "id": "fc885bf8-67f8-4936-b37a-7707d9f2879b",
   "metadata": {},
   "outputs": [
    {
     "data": {
      "text/plain": [
       "39"
      ]
     },
     "execution_count": 12,
     "metadata": {},
     "output_type": "execute_result"
    }
   ],
   "source": [
    "statistics.mean(mynumber)"
   ]
  },
  {
   "cell_type": "code",
   "execution_count": 13,
   "id": "ddb67bd3-d705-4a37-8282-f4516363d0ce",
   "metadata": {},
   "outputs": [
    {
     "data": {
      "text/plain": [
       "36"
      ]
     },
     "execution_count": 13,
     "metadata": {},
     "output_type": "execute_result"
    }
   ],
   "source": [
    "statistics.median(mynumber)"
   ]
  },
  {
   "cell_type": "code",
   "execution_count": 14,
   "id": "d77463ff-01df-4958-90b3-02699c612585",
   "metadata": {},
   "outputs": [
    {
     "data": {
      "text/plain": [
       "10"
      ]
     },
     "execution_count": 14,
     "metadata": {},
     "output_type": "execute_result"
    }
   ],
   "source": [
    "statistics.mode(mynumber)"
   ]
  },
  {
   "cell_type": "code",
   "execution_count": null,
   "id": "d2e73176-e47d-40c3-a470-da54f7591b7c",
   "metadata": {},
   "outputs": [],
   "source": []
  }
 ],
 "metadata": {
  "kernelspec": {
   "display_name": "Python 3 (ipykernel)",
   "language": "python",
   "name": "python3"
  },
  "language_info": {
   "codemirror_mode": {
    "name": "ipython",
    "version": 3
   },
   "file_extension": ".py",
   "mimetype": "text/x-python",
   "name": "python",
   "nbconvert_exporter": "python",
   "pygments_lexer": "ipython3",
   "version": "3.9.7"
  }
 },
 "nbformat": 4,
 "nbformat_minor": 5
}
