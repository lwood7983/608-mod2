{
 "cells": [
  {
   "cell_type": "code",
   "execution_count": 1,
   "id": "f7c5f6a6-14c3-46f5-bb3e-1c7a223dc40e",
   "metadata": {},
   "outputs": [],
   "source": [
    "# efficiency scores on jobs performed by employees"
   ]
  },
  {
   "cell_type": "code",
   "execution_count": 2,
   "id": "3df5d6a7-3adf-4d58-aaeb-09dd9bfbd11f",
   "metadata": {},
   "outputs": [],
   "source": [
    "import statistics"
   ]
  },
  {
   "cell_type": "code",
   "execution_count": 3,
   "id": "a8d3d364-d778-41e2-8cdf-b8f81752c846",
   "metadata": {},
   "outputs": [],
   "source": [
    "scores = [57,56,4,77,5,34,16,15,61,89,35,80,52,50,46,36,90,36,23,65,61,60,95,38,85,1,70,53,59,64,91,31,55,42,73,46,23,83,41,19,15,32,66,37,42,17,71,95,86,10,72,93,14,94,30,2,11,53,34,98,40,68,34,16,66,52,15,62,50,67,88,64,8,21,82,71,69,8,28,9,12,58,87,63,33,16,60,93,30,28,47,95,57,57,19,55,7,20,78,88]"
   ]
  },
  {
   "cell_type": "code",
   "execution_count": 4,
   "id": "f6f40dfd-78b8-4b94-98cb-ea192b84da56",
   "metadata": {},
   "outputs": [
    {
     "data": {
      "text/plain": [
       "100"
      ]
     },
     "execution_count": 4,
     "metadata": {},
     "output_type": "execute_result"
    }
   ],
   "source": [
    "len(scores)"
   ]
  },
  {
   "cell_type": "code",
   "execution_count": 5,
   "id": "058f7a1c-3e2d-4522-b2c5-8b489b2c564d",
   "metadata": {},
   "outputs": [
    {
     "data": {
      "text/plain": [
       "4910"
      ]
     },
     "execution_count": 5,
     "metadata": {},
     "output_type": "execute_result"
    }
   ],
   "source": [
    "sum(scores)"
   ]
  },
  {
   "cell_type": "code",
   "execution_count": 6,
   "id": "47ae3c0c-84ae-498b-8396-3263a0467718",
   "metadata": {},
   "outputs": [
    {
     "data": {
      "text/plain": [
       "49.1"
      ]
     },
     "execution_count": 6,
     "metadata": {},
     "output_type": "execute_result"
    }
   ],
   "source": [
    "statistics.mean(scores)"
   ]
  },
  {
   "cell_type": "code",
   "execution_count": 7,
   "id": "6ffa5216-4c7f-4159-b8b6-471187c96760",
   "metadata": {},
   "outputs": [
    {
     "data": {
      "text/plain": [
       "52.0"
      ]
     },
     "execution_count": 7,
     "metadata": {},
     "output_type": "execute_result"
    }
   ],
   "source": [
    "statistics.median(scores)"
   ]
  },
  {
   "cell_type": "code",
   "execution_count": 8,
   "id": "4dd5345a-a8bc-4bba-b61a-9930d20e8f22",
   "metadata": {},
   "outputs": [
    {
     "data": {
      "text/plain": [
       "57"
      ]
     },
     "execution_count": 8,
     "metadata": {},
     "output_type": "execute_result"
    }
   ],
   "source": [
    "statistics.mode(scores)"
   ]
  },
  {
   "cell_type": "code",
   "execution_count": null,
   "id": "c812d7c7-8c45-4a50-b1d8-62cff326d6e9",
   "metadata": {},
   "outputs": [],
   "source": []
  }
 ],
 "metadata": {
  "kernelspec": {
   "display_name": "Python 3 (ipykernel)",
   "language": "python",
   "name": "python3"
  },
  "language_info": {
   "codemirror_mode": {
    "name": "ipython",
    "version": 3
   },
   "file_extension": ".py",
   "mimetype": "text/x-python",
   "name": "python",
   "nbconvert_exporter": "python",
   "pygments_lexer": "ipython3",
   "version": "3.9.7"
  }
 },
 "nbformat": 4,
 "nbformat_minor": 5
}
